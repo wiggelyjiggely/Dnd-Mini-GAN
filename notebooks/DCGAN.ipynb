{
  "nbformat": 4,
  "nbformat_minor": 0,
  "metadata": {
    "colab": {
      "name": "DCGAN.ipynb",
      "provenance": []
    },
    "kernelspec": {
      "name": "python3",
      "display_name": "Python 3"
    }
  },
  "cells": [
    {
      "cell_type": "markdown",
      "metadata": {
        "id": "iF22iJa0FgmD",
        "colab_type": "text"
      },
      "source": [
        ""
      ]
    },
    {
      "cell_type": "markdown",
      "metadata": {
        "id": "JX3QqxIxFh25",
        "colab_type": "text"
      },
      "source": [
        "# DCGAN implementation in pytorch"
      ]
    },
    {
      "cell_type": "code",
      "metadata": {
        "id": "am3Jnb-GF46B",
        "colab_type": "code",
        "colab": {
          "base_uri": "https://localhost:8080/",
          "height": 52
        },
        "outputId": "8563f2e1-f119-45b9-e479-053d43dff46e"
      },
      "source": [
        "!pip install torch\n",
        "!pip install torchsummary"
      ],
      "execution_count": 2,
      "outputs": [
        {
          "output_type": "stream",
          "text": [
            "Requirement already satisfied: torch in /usr/local/lib/python3.6/dist-packages (1.4.0)\n",
            "Requirement already satisfied: torchsummary in /usr/local/lib/python3.6/dist-packages (1.5.1)\n"
          ],
          "name": "stdout"
        }
      ]
    },
    {
      "cell_type": "code",
      "metadata": {
        "id": "qAVbbhcdFYdP",
        "colab_type": "code",
        "colab": {
          "base_uri": "https://localhost:8080/",
          "height": 34
        },
        "outputId": "ed992831-d8ca-493d-8162-fbe33f8a6172"
      },
      "source": [
        "import torch\n",
        "import torch.nn as nn\n",
        "from torchsummary import summary\n",
        "\n",
        "\"\"\"\n",
        "DCGAN pytorch implementation based on https://arxiv.org/abs/1511.06434\n",
        "\"\"\"\n"
      ],
      "execution_count": 3,
      "outputs": [
        {
          "output_type": "execute_result",
          "data": {
            "text/plain": [
              "'\\nDCGAN pytorch implementation based on https://arxiv.org/abs/1511.06434\\n'"
            ]
          },
          "metadata": {
            "tags": []
          },
          "execution_count": 3
        }
      ]
    },
    {
      "cell_type": "markdown",
      "metadata": {
        "id": "a24T9e6oFrUE",
        "colab_type": "text"
      },
      "source": [
        "## Discriminator"
      ]
    },
    {
      "cell_type": "code",
      "metadata": {
        "id": "DMsIKh59Fpgi",
        "colab_type": "code",
        "colab": {}
      },
      "source": [
        "class Discriminator(torch.nn.Module):\n",
        "\n",
        "    def __init__(self, in_channels=3, out_conv_channels=1024, dim=64):\n",
        "        super(Discriminator, self).__init__()\n",
        "        conv1_channels = int(out_conv_channels / 8)\n",
        "        conv2_channels = int(out_conv_channels / 4)\n",
        "        conv3_channels = int(out_conv_channels / 2)\n",
        "        self.out_conv_channels = out_conv_channels\n",
        "        self.out_dim = int(dim / 16)\n",
        "\n",
        "        self.conv1 = nn.Sequential(\n",
        "            nn.Conv2d(\n",
        "                in_channels=in_channels, out_channels=conv1_channels, kernel_size=4,\n",
        "                stride=2, padding=1, bias=False\n",
        "            ),\n",
        "            nn.BatchNorm2d(conv1_channels),\n",
        "            nn.LeakyReLU(0.2, inplace=True)\n",
        "        )\n",
        "        self.conv2 = nn.Sequential(\n",
        "            nn.Conv2d(\n",
        "                in_channels=conv1_channels, out_channels=conv2_channels, kernel_size=4,\n",
        "                stride=2, padding=1, bias=False\n",
        "            ),\n",
        "            nn.BatchNorm2d(conv2_channels),\n",
        "            nn.LeakyReLU(0.2, inplace=True)\n",
        "        )\n",
        "        self.conv3 = nn.Sequential(\n",
        "            nn.Conv2d(\n",
        "                in_channels=conv2_channels, out_channels=conv3_channels, kernel_size=4,\n",
        "                stride=2, padding=1, bias=False\n",
        "            ),\n",
        "            nn.BatchNorm2d(conv3_channels),\n",
        "            nn.LeakyReLU(0.2, inplace=True)\n",
        "        )\n",
        "        self.conv4 = nn.Sequential(\n",
        "            nn.Conv2d(\n",
        "                in_channels=conv3_channels, out_channels=out_conv_channels, kernel_size=4,\n",
        "                stride=2, padding=1, bias=False\n",
        "            ),\n",
        "            nn.BatchNorm2d(out_conv_channels),\n",
        "            nn.LeakyReLU(0.2, inplace=True)\n",
        "        )\n",
        "        self.out = nn.Sequential(\n",
        "            nn.Linear(out_conv_channels * self.out_dim * self.out_dim, 1),\n",
        "            nn.Sigmoid(),\n",
        "        )\n",
        "\n",
        "    def forward(self, x):\n",
        "        x = self.conv1(x)\n",
        "        x = self.conv2(x)\n",
        "        x = self.conv3(x)\n",
        "        x = self.conv4(x)\n",
        "        x = x.view(-1, self.out_conv_channels * self.out_dim * self.out_dim)\n",
        "        x = self.out(x)\n",
        "        return x\n"
      ],
      "execution_count": 0,
      "outputs": []
    },
    {
      "cell_type": "markdown",
      "metadata": {
        "id": "oby_xHhqFmfw",
        "colab_type": "text"
      },
      "source": [
        "## Generator"
      ]
    },
    {
      "cell_type": "code",
      "metadata": {
        "id": "tIw8VMAUFvJ1",
        "colab_type": "code",
        "colab": {}
      },
      "source": [
        "\n",
        "class Generator(torch.nn.Module):\n",
        "\n",
        "    def __init__(self, in_channels=1024, out_dim=64, out_channels=3, noise_dim=200):\n",
        "        super(Generator, self).__init__()\n",
        "        self.in_channels = in_channels\n",
        "        self.out_dim = out_dim\n",
        "        self.in_dim = int(out_dim / 16)\n",
        "        conv1_out_channels = int(self.in_channels / 2.0)\n",
        "        conv2_out_channels = int(conv1_out_channels / 2)\n",
        "        conv3_out_channels = int(conv2_out_channels / 2)\n",
        "\n",
        "        self.linear = torch.nn.Linear(noise_dim, in_channels * self.in_dim * self.in_dim)\n",
        "\n",
        "        self.conv1 = nn.Sequential(\n",
        "            nn.ConvTranspose2d(\n",
        "                in_channels=self.in_channels, out_channels=conv1_out_channels, kernel_size=4,\n",
        "                stride=2, padding=1, bias=False\n",
        "            ),\n",
        "            nn.BatchNorm2d(conv1_out_channels),\n",
        "            nn.ReLU(inplace=True)\n",
        "        )\n",
        "        self.conv2 = nn.Sequential(\n",
        "            nn.ConvTranspose2d(\n",
        "                in_channels=conv1_out_channels, out_channels=conv2_out_channels, kernel_size=4,\n",
        "                stride=2, padding=1, bias=False\n",
        "            ),\n",
        "            nn.BatchNorm2d(conv2_out_channels),\n",
        "            nn.ReLU(inplace=True)\n",
        "        )\n",
        "        self.conv3 = nn.Sequential(\n",
        "            nn.ConvTranspose2d(\n",
        "                in_channels=conv2_out_channels, out_channels=conv3_out_channels, kernel_size=4,\n",
        "                stride=2, padding=1, bias=False\n",
        "            ),\n",
        "            nn.BatchNorm2d(conv3_out_channels),\n",
        "            nn.ReLU(inplace=True)\n",
        "        )\n",
        "        self.conv4 = nn.Sequential(\n",
        "            nn.ConvTranspose2d(\n",
        "                in_channels=conv3_out_channels, out_channels=out_channels, kernel_size=4,\n",
        "                stride=2, padding=1, bias=False\n",
        "            )\n",
        "        )\n",
        "        self.out = torch.nn.Tanh()\n",
        "\n",
        "    def forward(self, x):\n",
        "        x = self.linear(x)\n",
        "        x = x.view(-1, self.in_channels, self.in_dim, self.in_dim)\n",
        "        x = self.conv1(x)\n",
        "        x = self.conv2(x)\n",
        "        x = self.conv3(x)\n",
        "        x = self.conv4(x)\n",
        "        return self.out(x)"
      ],
      "execution_count": 0,
      "outputs": []
    },
    {
      "cell_type": "markdown",
      "metadata": {
        "id": "UGmkMNYOF1EN",
        "colab_type": "text"
      },
      "source": [
        "## Test"
      ]
    },
    {
      "cell_type": "code",
      "metadata": {
        "id": "s5Xs5zyCF2Ms",
        "colab_type": "code",
        "colab": {
          "base_uri": "https://localhost:8080/",
          "height": 990
        },
        "outputId": "160788d3-5aa9-4c44-9850-7455dd2cdad9"
      },
      "source": [
        "def test_dcgan():\n",
        "    noise_dim = 100\n",
        "    in_conv_channels = 512\n",
        "    dim = 64  # cube volume\n",
        "    model_generator = Generator(in_channels=in_conv_channels, out_dim=dim, out_channels=3, noise_dim=noise_dim)\n",
        "    noise = torch.rand(1, noise_dim)\n",
        "    generated_volume = model_generator(noise)\n",
        "    print(\"Generator output shape\", generated_volume.shape)\n",
        "    model_discriminator = Discriminator(in_channels=3, dim=dim, out_conv_channels=in_conv_channels)\n",
        "    out = model_discriminator(generated_volume)\n",
        "    print(\"Discriminator output\", out.item())\n",
        "    print(\"Generator summary\")\n",
        "    summary(model_generator, (1, noise_dim))\n",
        "    print(\"Discriminator summary\")\n",
        "    summary(model_discriminator, (3,64,64))\n",
        "\n",
        "test_dcgan()"
      ],
      "execution_count": 7,
      "outputs": [
        {
          "output_type": "stream",
          "text": [
            "Generator output shape torch.Size([1, 3, 64, 64])\n",
            "Discriminator output 0.5283796787261963\n",
            "Generator summary\n",
            "----------------------------------------------------------------\n",
            "        Layer (type)               Output Shape         Param #\n",
            "================================================================\n",
            "            Linear-1              [-1, 1, 8192]         827,392\n",
            "   ConvTranspose2d-2            [-1, 256, 8, 8]       2,097,152\n",
            "       BatchNorm2d-3            [-1, 256, 8, 8]             512\n",
            "              ReLU-4            [-1, 256, 8, 8]               0\n",
            "   ConvTranspose2d-5          [-1, 128, 16, 16]         524,288\n",
            "       BatchNorm2d-6          [-1, 128, 16, 16]             256\n",
            "              ReLU-7          [-1, 128, 16, 16]               0\n",
            "   ConvTranspose2d-8           [-1, 64, 32, 32]         131,072\n",
            "       BatchNorm2d-9           [-1, 64, 32, 32]             128\n",
            "             ReLU-10           [-1, 64, 32, 32]               0\n",
            "  ConvTranspose2d-11            [-1, 3, 64, 64]           3,072\n",
            "             Tanh-12            [-1, 3, 64, 64]               0\n",
            "================================================================\n",
            "Total params: 3,583,872\n",
            "Trainable params: 3,583,872\n",
            "Non-trainable params: 0\n",
            "----------------------------------------------------------------\n",
            "Input size (MB): 0.00\n",
            "Forward/backward pass size (MB): 2.88\n",
            "Params size (MB): 13.67\n",
            "Estimated Total Size (MB): 16.55\n",
            "----------------------------------------------------------------\n",
            "Discriminator summary\n",
            "----------------------------------------------------------------\n",
            "        Layer (type)               Output Shape         Param #\n",
            "================================================================\n",
            "            Conv2d-1           [-1, 64, 32, 32]           3,072\n",
            "       BatchNorm2d-2           [-1, 64, 32, 32]             128\n",
            "         LeakyReLU-3           [-1, 64, 32, 32]               0\n",
            "            Conv2d-4          [-1, 128, 16, 16]         131,072\n",
            "       BatchNorm2d-5          [-1, 128, 16, 16]             256\n",
            "         LeakyReLU-6          [-1, 128, 16, 16]               0\n",
            "            Conv2d-7            [-1, 256, 8, 8]         524,288\n",
            "       BatchNorm2d-8            [-1, 256, 8, 8]             512\n",
            "         LeakyReLU-9            [-1, 256, 8, 8]               0\n",
            "           Conv2d-10            [-1, 512, 4, 4]       2,097,152\n",
            "      BatchNorm2d-11            [-1, 512, 4, 4]           1,024\n",
            "        LeakyReLU-12            [-1, 512, 4, 4]               0\n",
            "           Linear-13                    [-1, 1]           8,193\n",
            "          Sigmoid-14                    [-1, 1]               0\n",
            "================================================================\n",
            "Total params: 2,765,697\n",
            "Trainable params: 2,765,697\n",
            "Non-trainable params: 0\n",
            "----------------------------------------------------------------\n",
            "Input size (MB): 0.05\n",
            "Forward/backward pass size (MB): 2.81\n",
            "Params size (MB): 10.55\n",
            "Estimated Total Size (MB): 13.41\n",
            "----------------------------------------------------------------\n"
          ],
          "name": "stdout"
        }
      ]
    }
  ]
}